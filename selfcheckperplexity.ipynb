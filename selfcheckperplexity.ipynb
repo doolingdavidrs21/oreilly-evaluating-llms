{
 "cells": [
  {
   "cell_type": "code",
   "execution_count": 1,
   "id": "64649fbc-c6cf-4320-abb5-922c45a21437",
   "metadata": {},
   "outputs": [
    {
     "data": {
      "text/plain": [
       "True"
      ]
     },
     "execution_count": 1,
     "metadata": {},
     "output_type": "execute_result"
    }
   ],
   "source": [
    "import os\n",
    "\n",
    "from dotenv import load_dotenv\n",
    "\n",
    "load_dotenv()  # take environment variables"
   ]
  },
  {
   "cell_type": "code",
   "execution_count": 1,
   "id": "4ec7360b-d7d2-4da5-81c0-da2e2e0ad081",
   "metadata": {},
   "outputs": [],
   "source": [
    "# os.getenv(\"HF_ACCESS_TOKEN\")"
   ]
  },
  {
   "cell_type": "markdown",
   "id": "1cc05d75-cb49-47eb-84a6-c530e83176c0",
   "metadata": {},
   "source": [
    "# Perplexity as a cheap hallucination detector"
   ]
  },
  {
   "cell_type": "code",
   "execution_count": 3,
   "id": "6c116147-4835-42bb-af85-d7b355e124fc",
   "metadata": {},
   "outputs": [
    {
     "data": {
      "application/vnd.jupyter.widget-view+json": {
       "model_id": "c555170c94ae491688a5dfe2ba886fbb",
       "version_major": 2,
       "version_minor": 0
      },
      "text/plain": [
       "tokenizer_config.json:   0%|          | 0.00/54.5k [00:00<?, ?B/s]"
      ]
     },
     "metadata": {},
     "output_type": "display_data"
    },
    {
     "data": {
      "application/vnd.jupyter.widget-view+json": {
       "model_id": "ff7ca4c7e295487da2bf5b9c19d86114",
       "version_major": 2,
       "version_minor": 0
      },
      "text/plain": [
       "tokenizer.json:   0%|          | 0.00/9.09M [00:00<?, ?B/s]"
      ]
     },
     "metadata": {},
     "output_type": "display_data"
    },
    {
     "data": {
      "application/vnd.jupyter.widget-view+json": {
       "model_id": "666f5dc1dd7d4af1943cd7b949d05e1a",
       "version_major": 2,
       "version_minor": 0
      },
      "text/plain": [
       "special_tokens_map.json:   0%|          | 0.00/296 [00:00<?, ?B/s]"
      ]
     },
     "metadata": {},
     "output_type": "display_data"
    },
    {
     "data": {
      "application/vnd.jupyter.widget-view+json": {
       "model_id": "187e3948175f49829d9d66714cb5fbcf",
       "version_major": 2,
       "version_minor": 0
      },
      "text/plain": [
       "config.json:   0%|          | 0.00/877 [00:00<?, ?B/s]"
      ]
     },
     "metadata": {},
     "output_type": "display_data"
    },
    {
     "data": {
      "application/vnd.jupyter.widget-view+json": {
       "model_id": "de878d613dfc4d7a88b0ab4255cb830a",
       "version_major": 2,
       "version_minor": 0
      },
      "text/plain": [
       "model.safetensors:   0%|          | 0.00/2.47G [00:00<?, ?B/s]"
      ]
     },
     "metadata": {},
     "output_type": "display_data"
    },
    {
     "data": {
      "application/vnd.jupyter.widget-view+json": {
       "model_id": "d21a1d0334d04aada9e9da06c2646f21",
       "version_major": 2,
       "version_minor": 0
      },
      "text/plain": [
       "generation_config.json:   0%|          | 0.00/189 [00:00<?, ?B/s]"
      ]
     },
     "metadata": {},
     "output_type": "display_data"
    }
   ],
   "source": [
    "import math\n",
    "\n",
    "import torch\n",
    "\n",
    "# from google.colab import userdata\n",
    "from transformers import AutoModelForCausalLM, AutoTokenizer\n",
    "\n",
    "# userdata.get(\"HF_TOKEN\")\n",
    "\n",
    "# Load Llama 3.2 model and tokenizer\n",
    "model_name = \"meta-llama/Llama-3.2-1B-Instruct\"\n",
    "tokenizer = AutoTokenizer.from_pretrained(model_name)\n",
    "model = AutoModelForCausalLM.from_pretrained(model_name)"
   ]
  },
  {
   "cell_type": "code",
   "execution_count": 4,
   "id": "eebb5410-fb24-488c-ba9e-3a31dfa5662c",
   "metadata": {},
   "outputs": [
    {
     "name": "stdout",
     "output_type": "stream",
     "text": [
      "eval mode\n"
     ]
    }
   ],
   "source": [
    "model.eval()\n",
    "print(\"eval mode\")"
   ]
  },
  {
   "cell_type": "code",
   "execution_count": 5,
   "id": "f67ae5f0-722b-49a9-beb1-2c0869edc599",
   "metadata": {},
   "outputs": [],
   "source": [
    "def calculate_metrics(question, choice, model, tokenizer):\n",
    "    \"\"\"\n",
    "    Calculates log-likelihood, perplexity, and cross-entropy for the given choice\n",
    "    compared to the full answer.\n",
    "    \"\"\"\n",
    "    # Format the input text\n",
    "    text = f\"Question: {question} Answer: {choice}\"\n",
    "\n",
    "    # Tokenize the input text\n",
    "    input_ids = tokenizer(text, return_tensors=\"pt\").input_ids\n",
    "\n",
    "    # Mask tokens based on the position of the full answer\n",
    "    labels = input_ids.clone()\n",
    "    labels[:] = -100  # Mask all tokens by default\n",
    "\n",
    "    # Find the position of the choice's tokens\n",
    "    choice_tokens = tokenizer(choice, add_special_tokens=False)[\"input_ids\"]\n",
    "    choice_start_token = len(\n",
    "        tokenizer(f\"Question: {question} Answer:\", add_special_tokens=False)[\n",
    "            \"input_ids\"\n",
    "        ]\n",
    "    )\n",
    "    choice_end_token = choice_start_token + len(choice_tokens)\n",
    "\n",
    "    # Mask only the tokens corresponding to the choice\n",
    "    labels[:, choice_start_token:choice_end_token] = input_ids[\n",
    "        :, choice_start_token:choice_end_token\n",
    "    ]\n",
    "\n",
    "    # Disable gradient computation for inference\n",
    "    with torch.no_grad():\n",
    "        outputs = model(input_ids=input_ids, labels=labels)\n",
    "        loss = (\n",
    "            outputs.loss.item()\n",
    "        )  # Cross-entropy loss (average per token for the choice only)\n",
    "\n",
    "    # Calculate log-likelihood\n",
    "    num_answer_tokens = (labels != -100).sum().item()\n",
    "    log_likelihood = (\n",
    "        -loss * num_answer_tokens\n",
    "    )  # Multiply by the number of tokens in the choice\n",
    "\n",
    "    # Calculate perplexity\n",
    "    perplexity = math.exp(loss)  # e ^ cross entropy loss\n",
    "\n",
    "    return {\n",
    "        \"log_likelihood\": log_likelihood,\n",
    "        \"cross_entropy\": loss,\n",
    "        \"perplexity\": perplexity,\n",
    "    }"
   ]
  },
  {
   "cell_type": "code",
   "execution_count": 6,
   "id": "63550d20-f6cb-48c6-bbeb-d7e9c1200e1b",
   "metadata": {},
   "outputs": [
    {
     "name": "stdout",
     "output_type": "stream",
     "text": [
      "Question: What is the capital of France?\n"
     ]
    },
    {
     "ename": "TypeError",
     "evalue": "calculate_metrics() takes 4 positional arguments but 5 were given",
     "output_type": "error",
     "traceback": [
      "\u001b[0;31m---------------------------------------------------------------------------\u001b[0m",
      "\u001b[0;31mTypeError\u001b[0m                                 Traceback (most recent call last)",
      "Cell \u001b[0;32mIn[6], line 31\u001b[0m\n\u001b[1;32m     29\u001b[0m \u001b[38;5;28mprint\u001b[39m(\u001b[38;5;124mf\u001b[39m\u001b[38;5;124m\"\u001b[39m\u001b[38;5;124mQuestion: \u001b[39m\u001b[38;5;132;01m{\u001b[39;00msample[\u001b[38;5;124m'\u001b[39m\u001b[38;5;124mquestion\u001b[39m\u001b[38;5;124m'\u001b[39m]\u001b[38;5;132;01m}\u001b[39;00m\u001b[38;5;124m\"\u001b[39m)\n\u001b[1;32m     30\u001b[0m \u001b[38;5;28;01mfor\u001b[39;00m choice \u001b[38;5;129;01min\u001b[39;00m sample[\u001b[38;5;124m\"\u001b[39m\u001b[38;5;124mchoices\u001b[39m\u001b[38;5;124m\"\u001b[39m]:\n\u001b[0;32m---> 31\u001b[0m     metrics \u001b[38;5;241m=\u001b[39m \u001b[43mcalculate_metrics\u001b[49m\u001b[43m(\u001b[49m\n\u001b[1;32m     32\u001b[0m \u001b[43m        \u001b[49m\u001b[43msample\u001b[49m\u001b[43m[\u001b[49m\u001b[38;5;124;43m\"\u001b[39;49m\u001b[38;5;124;43mquestion\u001b[39;49m\u001b[38;5;124;43m\"\u001b[39;49m\u001b[43m]\u001b[49m\u001b[43m,\u001b[49m\u001b[43m \u001b[49m\u001b[43mchoice\u001b[49m\u001b[43m,\u001b[49m\u001b[43m \u001b[49m\u001b[43msample\u001b[49m\u001b[43m[\u001b[49m\u001b[38;5;124;43m\"\u001b[39;49m\u001b[38;5;124;43manswer\u001b[39;49m\u001b[38;5;124;43m\"\u001b[39;49m\u001b[43m]\u001b[49m\u001b[43m,\u001b[49m\u001b[43m \u001b[49m\u001b[43mmodel\u001b[49m\u001b[43m,\u001b[49m\u001b[43m \u001b[49m\u001b[43mtokenizer\u001b[49m\n\u001b[1;32m     33\u001b[0m \u001b[43m    \u001b[49m\u001b[43m)\u001b[49m\n\u001b[1;32m     34\u001b[0m     \u001b[38;5;28mprint\u001b[39m(\u001b[38;5;124mf\u001b[39m\u001b[38;5;124m\"\u001b[39m\u001b[38;5;124m  Choice: \u001b[39m\u001b[38;5;132;01m{\u001b[39;00mchoice\u001b[38;5;132;01m}\u001b[39;00m\u001b[38;5;124m\"\u001b[39m)\n\u001b[1;32m     35\u001b[0m     \u001b[38;5;28mprint\u001b[39m(\u001b[38;5;124mf\u001b[39m\u001b[38;5;124m\"\u001b[39m\u001b[38;5;124m    Log-Likelihood: \u001b[39m\u001b[38;5;132;01m{\u001b[39;00mmetrics[\u001b[38;5;124m'\u001b[39m\u001b[38;5;124mlog_likelihood\u001b[39m\u001b[38;5;124m'\u001b[39m]\u001b[38;5;132;01m:\u001b[39;00m\u001b[38;5;124m.2f\u001b[39m\u001b[38;5;132;01m}\u001b[39;00m\u001b[38;5;124m\"\u001b[39m)\n",
      "\u001b[0;31mTypeError\u001b[0m: calculate_metrics() takes 4 positional arguments but 5 were given"
     ]
    }
   ],
   "source": [
    "# Sample multiple-choice benchmark\n",
    "benchmark = [\n",
    "    {\n",
    "        \"question\": \"What is the capital of France?\",\n",
    "        \"choices\": [\"Paris\", \"Berlin\", \"Madrid\", \"Rome\"],\n",
    "        \"answer\": \"Paris\",\n",
    "    },\n",
    "    {\n",
    "        \"question\": \"What is the capital of France?\",\n",
    "        \"choices\": [\n",
    "            \"Paris, the city of love!\",\n",
    "            \"Paris, the city of Love!\",\n",
    "            \"I think Berlin\",\n",
    "            \"The answer is Paris.\",\n",
    "            \"Rome, France\",\n",
    "        ],\n",
    "        # even capitalization of love vs Love changed perplexity so much\n",
    "        \"answer\": \"Paris\",\n",
    "    },\n",
    "    {\n",
    "        \"question\": \"Which planet is known as the Red Planet?\",\n",
    "        \"choices\": [\"Earth\", \"Venus\", \"Mars\", \"Jupiter\"],\n",
    "        \"answer\": \"Mars\",\n",
    "    },\n",
    "]\n",
    "\n",
    "# Evaluate the benchmark\n",
    "for sample in benchmark:\n",
    "    print(f\"Question: {sample['question']}\")\n",
    "    for choice in sample[\"choices\"]:\n",
    "        metrics = calculate_metrics(\n",
    "            sample[\"question\"], choice, sample[\"answer\"], model, tokenizer\n",
    "        )\n",
    "        print(f\"  Choice: {choice}\")\n",
    "        print(f\"    Log-Likelihood: {metrics['log_likelihood']:.2f}\")\n",
    "        print(f\"    Cross-Entropy: {metrics['cross_entropy']:.2f}\")\n",
    "        print(f\"    Perplexity: {metrics['perplexity']:.2f}\")\n",
    "    print()"
   ]
  },
  {
   "cell_type": "code",
   "execution_count": null,
   "id": "d57becbc-10d9-4b31-8c7f-0d4e8b486600",
   "metadata": {},
   "outputs": [],
   "source": []
  }
 ],
 "metadata": {
  "kernelspec": {
   "display_name": "Python (.venv)",
   "language": "python",
   "name": ".venv"
  },
  "language_info": {
   "codemirror_mode": {
    "name": "ipython",
    "version": 3
   },
   "file_extension": ".py",
   "mimetype": "text/x-python",
   "name": "python",
   "nbconvert_exporter": "python",
   "pygments_lexer": "ipython3",
   "version": "3.12.6"
  }
 },
 "nbformat": 4,
 "nbformat_minor": 5
}
