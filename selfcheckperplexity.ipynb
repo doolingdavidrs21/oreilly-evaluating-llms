{
 "cells": [
  {
   "cell_type": "code",
   "execution_count": 1,
   "id": "64649fbc-c6cf-4320-abb5-922c45a21437",
   "metadata": {},
   "outputs": [
    {
     "data": {
      "text/plain": [
       "True"
      ]
     },
     "execution_count": 1,
     "metadata": {},
     "output_type": "execute_result"
    }
   ],
   "source": [
    "import os\n",
    "\n",
    "from dotenv import load_dotenv\n",
    "\n",
    "load_dotenv()  # take environment variables"
   ]
  },
  {
   "cell_type": "code",
   "execution_count": 1,
   "id": "4ec7360b-d7d2-4da5-81c0-da2e2e0ad081",
   "metadata": {},
   "outputs": [],
   "source": [
    "# os.getenv(\"HF_ACCESS_TOKEN\")"
   ]
  },
  {
   "cell_type": "markdown",
   "id": "1cc05d75-cb49-47eb-84a6-c530e83176c0",
   "metadata": {},
   "source": [
    "# Perplexity as a cheap hallucination detector"
   ]
  },
  {
   "cell_type": "code",
   "execution_count": 4,
   "id": "6c116147-4835-42bb-af85-d7b355e124fc",
   "metadata": {},
   "outputs": [
    {
     "name": "stderr",
     "output_type": "stream",
     "text": [
      "/home/davidd/2025/oreilly-evaluating-llms/.venv/lib/python3.13/site-packages/tqdm/auto.py:21: TqdmWarning: IProgress not found. Please update jupyter and ipywidgets. See https://ipywidgets.readthedocs.io/en/stable/user_install.html\n",
      "  from .autonotebook import tqdm as notebook_tqdm\n"
     ]
    }
   ],
   "source": [
    "import math\n",
    "\n",
    "import torch\n",
    "\n",
    "# from google.colab import userdata\n",
    "from transformers import AutoModelForCausalLM, AutoTokenizer\n",
    "\n",
    "# userdata.get(\"HF_TOKEN\")\n",
    "\n",
    "# Load Llama 3.2 model and tokenizer\n",
    "model_name = \"meta-llama/Llama-3.2-1B-Instruct\"\n",
    "tokenizer = AutoTokenizer.from_pretrained(model_name)\n",
    "model = AutoModelForCausalLM.from_pretrained(model_name)"
   ]
  },
  {
   "cell_type": "code",
   "execution_count": 5,
   "id": "eebb5410-fb24-488c-ba9e-3a31dfa5662c",
   "metadata": {},
   "outputs": [
    {
     "name": "stdout",
     "output_type": "stream",
     "text": [
      "eval mode\n"
     ]
    }
   ],
   "source": [
    "model.eval()\n",
    "print(\"eval mode\")"
   ]
  },
  {
   "cell_type": "code",
   "execution_count": 9,
   "id": "bcfde88b",
   "metadata": {},
   "outputs": [],
   "source": [
    "def calculate_metrics(question, choice, answer, model, tokenizer):\n",
    "    \"\"\"\n",
    "    Calculates log-likelihood, perplexity, and cross-entropy for the given choice\n",
    "    compared to the full answer.\n",
    "    \"\"\"\n",
    "    # Format the input text using the full answer\n",
    "    text = f\"Question: {question} Answer: {answer}\"\n",
    "\n",
    "    # Tokenize the input text\n",
    "    input_ids = tokenizer(text, return_tensors=\"pt\").input_ids\n",
    "\n",
    "    # Mask tokens based on the position of the full answer\n",
    "    labels = input_ids.clone()\n",
    "    labels[:] = -100  # Mask all tokens by default\n",
    "\n",
    "    # Find the position of the candidate choice's tokens within the full answer tokens\n",
    "    choice_tokens = tokenizer(choice, add_special_tokens=False)[\"input_ids\"]\n",
    "    choice_start_token = len(\n",
    "        tokenizer(f\"Question: {question} Answer:\", add_special_tokens=False)[\"input_ids\"]\n",
    "    )\n",
    "    choice_end_token = choice_start_token + len(choice_tokens)\n",
    "\n",
    "    # Mask only the tokens corresponding to the candidate choice\n",
    "    labels[:, choice_start_token:choice_end_token] = input_ids[:, choice_start_token:choice_end_token]\n",
    "\n",
    "    # Disable gradient computation for inference\n",
    "    with torch.no_grad():\n",
    "        outputs = model(input_ids=input_ids, labels=labels)\n",
    "        loss = outputs.loss.item()  # Cross-entropy loss (average per token for the choice only)\n",
    "\n",
    "    # Calculate log-likelihood\n",
    "    num_answer_tokens = (labels != -100).sum().item()\n",
    "    log_likelihood = -loss * num_answer_tokens  # Multiply by the number of tokens in the choice\n",
    "\n",
    "    # Calculate perplexity\n",
    "    perplexity = math.exp(loss)  # e ^ cross entropy loss\n",
    "\n",
    "    return {\n",
    "        \"log_likelihood\": log_likelihood,\n",
    "        \"cross_entropy\": loss,\n",
    "        \"perplexity\": perplexity,\n",
    "    }"
   ]
  },
  {
   "cell_type": "code",
   "execution_count": 10,
   "id": "63550d20-f6cb-48c6-bbeb-d7e9c1200e1b",
   "metadata": {},
   "outputs": [
    {
     "name": "stdout",
     "output_type": "stream",
     "text": [
      "Question: What is the capital of France?\n",
      "  Choice: Paris\n",
      "    Log-Likelihood: -0.58\n",
      "    Cross-Entropy: 0.58\n",
      "    Perplexity: 1.79\n",
      "  Choice: Paris\n",
      "    Log-Likelihood: -0.58\n",
      "    Cross-Entropy: 0.58\n",
      "    Perplexity: 1.79\n",
      "  Choice: Berlin\n",
      "    Log-Likelihood: -0.58\n",
      "    Cross-Entropy: 0.58\n",
      "    Perplexity: 1.79\n",
      "  Choice: Berlin\n",
      "    Log-Likelihood: -0.58\n",
      "    Cross-Entropy: 0.58\n",
      "    Perplexity: 1.79\n",
      "  Choice: Madrid\n",
      "    Log-Likelihood: -0.67\n",
      "    Cross-Entropy: 0.34\n",
      "    Perplexity: 1.40\n",
      "  Choice: Madrid\n",
      "    Log-Likelihood: -0.67\n",
      "    Cross-Entropy: 0.34\n",
      "    Perplexity: 1.40\n",
      "  Choice: Rome\n",
      "    Log-Likelihood: -0.67\n",
      "    Cross-Entropy: 0.34\n",
      "    Perplexity: 1.40\n",
      "\n",
      "Question: What is the capital of France?\n",
      "  Choice: Rome\n",
      "    Log-Likelihood: -0.67\n",
      "    Cross-Entropy: 0.34\n",
      "    Perplexity: 1.40\n",
      "\n",
      "Question: What is the capital of France?\n",
      "  Choice: Paris, the city of love!\n",
      "    Log-Likelihood: -0.67\n",
      "    Cross-Entropy: 0.34\n",
      "    Perplexity: 1.40\n",
      "  Choice: Paris, the city of love!\n",
      "    Log-Likelihood: -0.67\n",
      "    Cross-Entropy: 0.34\n",
      "    Perplexity: 1.40\n",
      "  Choice: Paris, the city of Love!\n",
      "    Log-Likelihood: -0.67\n",
      "    Cross-Entropy: 0.34\n",
      "    Perplexity: 1.40\n",
      "  Choice: Paris, the city of Love!\n",
      "    Log-Likelihood: -0.67\n",
      "    Cross-Entropy: 0.34\n",
      "    Perplexity: 1.40\n",
      "  Choice: I think Berlin\n",
      "    Log-Likelihood: -0.67\n",
      "    Cross-Entropy: 0.34\n",
      "    Perplexity: 1.40\n",
      "  Choice: I think Berlin\n",
      "    Log-Likelihood: -0.67\n",
      "    Cross-Entropy: 0.34\n",
      "    Perplexity: 1.40\n",
      "  Choice: The answer is Paris.\n",
      "    Log-Likelihood: -0.67\n",
      "    Cross-Entropy: 0.34\n",
      "    Perplexity: 1.40\n",
      "  Choice: The answer is Paris.\n",
      "    Log-Likelihood: -0.67\n",
      "    Cross-Entropy: 0.34\n",
      "    Perplexity: 1.40\n",
      "  Choice: Rome, France\n",
      "    Log-Likelihood: -0.67\n",
      "    Cross-Entropy: 0.34\n",
      "    Perplexity: 1.40\n",
      "\n",
      "Question: Which planet is known as the Red Planet?\n",
      "  Choice: Rome, France\n",
      "    Log-Likelihood: -0.67\n",
      "    Cross-Entropy: 0.34\n",
      "    Perplexity: 1.40\n",
      "\n",
      "Question: Which planet is known as the Red Planet?\n",
      "  Choice: Earth\n",
      "    Log-Likelihood: -0.37\n",
      "    Cross-Entropy: 0.37\n",
      "    Perplexity: 1.45\n",
      "  Choice: Earth\n",
      "    Log-Likelihood: -0.37\n",
      "    Cross-Entropy: 0.37\n",
      "    Perplexity: 1.45\n",
      "  Choice: Venus\n",
      "    Log-Likelihood: -0.52\n",
      "    Cross-Entropy: 0.26\n",
      "    Perplexity: 1.30\n",
      "  Choice: Venus\n",
      "    Log-Likelihood: -0.52\n",
      "    Cross-Entropy: 0.26\n",
      "    Perplexity: 1.30\n",
      "  Choice: Mars\n",
      "    Log-Likelihood: -0.52\n",
      "    Cross-Entropy: 0.26\n",
      "    Perplexity: 1.30\n",
      "  Choice: Mars\n",
      "    Log-Likelihood: -0.52\n",
      "    Cross-Entropy: 0.26\n",
      "    Perplexity: 1.30\n",
      "  Choice: Jupiter\n",
      "    Log-Likelihood: -0.52\n",
      "    Cross-Entropy: 0.26\n",
      "    Perplexity: 1.30\n",
      "\n",
      "  Choice: Jupiter\n",
      "    Log-Likelihood: -0.52\n",
      "    Cross-Entropy: 0.26\n",
      "    Perplexity: 1.30\n",
      "\n"
     ]
    }
   ],
   "source": [
    "# Sample multiple-choice benchmark\n",
    "benchmark = [\n",
    "    {\n",
    "        \"question\": \"What is the capital of France?\",\n",
    "        \"choices\": [\"Paris\", \"Berlin\", \"Madrid\", \"Rome\"],\n",
    "        \"answer\": \"Paris\",\n",
    "    },\n",
    "    {\n",
    "        \"question\": \"What is the capital of France?\",\n",
    "        \"choices\": [\n",
    "            \"Paris, the city of love!\",\n",
    "            \"Paris, the city of Love!\",\n",
    "            \"I think Berlin\",\n",
    "            \"The answer is Paris.\",\n",
    "            \"Rome, France\",\n",
    "        ],\n",
    "        # even capitalization of love vs Love changed perplexity so much\n",
    "        \"answer\": \"Paris\",\n",
    "    },\n",
    "    {\n",
    "        \"question\": \"Which planet is known as the Red Planet?\",\n",
    "        \"choices\": [\"Earth\", \"Venus\", \"Mars\", \"Jupiter\"],\n",
    "        \"answer\": \"Mars\",\n",
    "    },\n",
    "]\n",
    "\n",
    "# Evaluate the benchmark\n",
    "for sample in benchmark:\n",
    "    print(f\"Question: {sample['question']}\")\n",
    "    for choice in sample[\"choices\"]:\n",
    "        metrics = calculate_metrics(\n",
    "            sample[\"question\"], choice, sample[\"answer\"], model, tokenizer\n",
    "        )\n",
    "        print(f\"  Choice: {choice}\")\n",
    "        print(f\"    Log-Likelihood: {metrics['log_likelihood']:.2f}\")\n",
    "        print(f\"    Cross-Entropy: {metrics['cross_entropy']:.2f}\")\n",
    "        print(f\"    Perplexity: {metrics['perplexity']:.2f}\")\n",
    "    print()"
   ]
  },
  {
   "cell_type": "code",
   "execution_count": null,
   "id": "8180a779",
   "metadata": {},
   "outputs": [],
   "source": []
  },
  {
   "cell_type": "code",
   "execution_count": null,
   "id": "d57becbc-10d9-4b31-8c7f-0d4e8b486600",
   "metadata": {},
   "outputs": [],
   "source": []
  }
 ],
 "metadata": {
  "kernelspec": {
   "display_name": ".venv",
   "language": "python",
   "name": "python3"
  },
  "language_info": {
   "codemirror_mode": {
    "name": "ipython",
    "version": 3
   },
   "file_extension": ".py",
   "mimetype": "text/x-python",
   "name": "python",
   "nbconvert_exporter": "python",
   "pygments_lexer": "ipython3",
   "version": "3.13.1"
  }
 },
 "nbformat": 4,
 "nbformat_minor": 5
}
